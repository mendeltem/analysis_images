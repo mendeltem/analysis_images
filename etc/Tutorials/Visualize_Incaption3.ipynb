{
 "cells": [
  {
   "cell_type": "code",
   "execution_count": 1,
   "metadata": {},
   "outputs": [
    {
     "name": "stderr",
     "output_type": "stream",
     "text": [
      "Using TensorFlow backend.\n"
     ]
    }
   ],
   "source": [
    "import pickle\n",
    "import keras\n",
    "import os\n",
    "import numpy as np\n",
    "import re\n",
    "from time import time\n",
    "import matplotlib.pyplot as plt\n",
    "import cv2\n",
    "import math"
   ]
  },
  {
   "cell_type": "code",
   "execution_count": 2,
   "metadata": {},
   "outputs": [],
   "source": [
    "import pandas as pd\n",
    "from keras.utils import Sequence\n",
    "import types"
   ]
  },
  {
   "cell_type": "code",
   "execution_count": 3,
   "metadata": {},
   "outputs": [],
   "source": [
    "\n",
    "\n",
    "from keras.applications.inception_v3 import preprocess_input\n",
    "#from modules.generators import ImageSequence\n",
    "\n",
    "\n",
    "DEFAULT_SAVE_PATH_MODEL     = 'model_inception_v3_mixedlayeroutputs_auto.h5'\n",
    "DEFAULT_IMAGE_DIRECTORY     = 'images/color/session1_memory/original'\n",
    "\n",
    "\n",
    "SAVE_PATH_MODEL = ''\n",
    "IMAGE_DIRECTORY = ''\n",
    "SAVE_DATA_PATH = ''\n"
   ]
  },
  {
   "cell_type": "code",
   "execution_count": 4,
   "metadata": {},
   "outputs": [],
   "source": [
    "class ImageSequence(Sequence):\n",
    "    \"\"\"Almost exact copy of a very simple Sequence reading images\n",
    "    in batches example from the keras page.\n",
    "\n",
    "    Arguments:\n",
    "        paths: paths to the images\n",
    "\n",
    "        labels: labels for the images in the same order. If None, the\n",
    "        sequence returns only the numpy array of the images without\n",
    "        labels.\n",
    "\n",
    "        batch_size: number of items being sent per __getitem__ call\n",
    "\n",
    "        preprocessing: list functions to preprocess image data. list index 0\n",
    "        is applied first. preprocessing happens before augmentation.\n",
    "\n",
    "        augmentation: list of functions to augment image data. list index 0\n",
    "        is applied first. preprocessing happens before augmentation.\n",
    "    \"\"\"\n",
    "\n",
    "    def __init__(self,\n",
    "                 paths,\n",
    "                 labels,\n",
    "                 batch_size,\n",
    "                 preprocessing,\n",
    "                 augmentation,\n",
    "                 target_size = None):\n",
    "        self.x, self.y = paths, labels\n",
    "        self.batch_size = batch_size\n",
    "\n",
    "        if preprocessing is None:\n",
    "            preprocessing = []\n",
    "        elif isinstance(preprocessing, types.FunctionType):\n",
    "            preprocessing = [preprocessing]\n",
    "        if augmentation is None:\n",
    "            augmentation = []\n",
    "        elif isinstance(augmentation, types.FunctionType):\n",
    "            augmentation = [augmentation]\n",
    "        self.fn_list = preprocessing + augmentation\n",
    "\n",
    "        if target_size is not None:\n",
    "            self.fn_list.append(lambda x : resize(x, target_size))\n",
    "\n",
    "    def __len__(self):\n",
    "        return int(np.ceil(len(self.x) / float(self.batch_size)))\n",
    "\n",
    "    def __getitem__(self, idx):\n",
    "        batch_x = self.x[idx * self.batch_size:(idx + 1) * self.batch_size]\n",
    "        batch_x_read_in = []\n",
    "        for file_name in batch_x:\n",
    "            img = imread_rgb(file_name)\n",
    "            for fn in self.fn_list:\n",
    "                img = fn(img)\n",
    "            batch_x_read_in.append(img)\n",
    "        if self.y is not None:\n",
    "            batch_y = self.y[idx * self.batch_size:(idx + 1) * self.batch_size]\n",
    "            return np.array(batch_x_read_in), np.array(batch_y)\n",
    "        else:\n",
    "            return np.array(batch_x_read_in)\n"
   ]
  },
  {
   "cell_type": "code",
   "execution_count": 5,
   "metadata": {},
   "outputs": [],
   "source": [
    "def get_model(load_path = None, auto_save = True):\n",
    "    \"\"\"Loads or instantiates a model based on inception_v3 returning the\n",
    "    outputs of all 11 mixed layers with indices from 0 to 10.\n",
    "\n",
    "    Arguments:\n",
    "        load_path: path of the already instantiated saved model.\n",
    "\n",
    "        auto_save: if True, saves the model in the default save path, if model\n",
    "        was not loaded.\n",
    "\n",
    "    Returns:\n",
    "        a keras model with all full mixed layers of inception_V3 as output\n",
    "    \"\"\"\n",
    "\n",
    "    if load_path is None:\n",
    "        if SAVE_PATH_MODEL == '':\n",
    "            load_path = DEFAULT_SAVE_PATH_MODEL\n",
    "        else:\n",
    "            load_path = SAVE_PATH_MODEL\n",
    "    try:\n",
    "        model = keras.models.load_model(load_path)\n",
    "\n",
    "    except OSError:\n",
    "        inc_v3 = keras.applications.InceptionV3(include_top=False,\n",
    "                                                weights='imagenet')\n",
    "\n",
    "        def get_mixed_layer_names():\n",
    "            layer_names = []\n",
    "            for layer in inc_v3.layers:\n",
    "                if 'mixed' in layer.name:\n",
    "                    layer_names.append(layer.name)\n",
    "            return layer_names\n",
    "\n",
    "        mixed_layer_names = get_mixed_layer_names()\n",
    "\n",
    "        main_mixed_layer_names = [ln for ln in mixed_layer_names if '_' not in ln]\n",
    "\n",
    "        x = inc_v3.input\n",
    "        outs = []\n",
    "        for ln in main_mixed_layer_names:\n",
    "            outs.append(inc_v3.get_layer(ln).output)\n",
    "        model = keras.Model(inputs=x, outputs=outs)\n",
    "        if auto_save:\n",
    "            model.save(DEFAULT_SAVE_PATH_MODEL, include_optimizer=False)\n",
    "    return model"
   ]
  },
  {
   "cell_type": "code",
   "execution_count": 6,
   "metadata": {},
   "outputs": [],
   "source": [
    "def get_img_paths(start_dir, extensions = ['png']):\n",
    "    \"\"\"Returns all image paths with the given extensions in the directory.\n",
    "\n",
    "    Arguments:\n",
    "        start_dir: directory the search starts from.\n",
    "\n",
    "        extensions: extensions of image file to be recognized.\n",
    "\n",
    "    Returns:\n",
    "        a sorted list of all image paths starting from the root of the file\n",
    "        system.\n",
    "    \"\"\"\n",
    "    if start_dir is None:\n",
    "        start_dir = os.getcwd()\n",
    "    img_paths = []\n",
    "    for roots,dirs,files in os.walk(start_dir):\n",
    "        for name in files:\n",
    "            for e in extensions:\n",
    "                if name.endswith('.' + e):\n",
    "                    img_paths.append(roots + '/' + name)\n",
    "    img_paths.sort()\n",
    "    return img_paths"
   ]
  },
  {
   "cell_type": "code",
   "execution_count": 7,
   "metadata": {},
   "outputs": [],
   "source": [
    "def data_selecting(data,color,masktype,maskregion,fixincalid):\n",
    "    \"\"\"choose the data associated to different experiment settings\n",
    "\n",
    "    Arguments:\n",
    "        data:\n",
    "\n",
    "            ...\n",
    "\n",
    "    Returns:\n",
    "        DataFrame\n",
    "    \"\"\"\n",
    "#masktype == 0 & maskregion == 0: Kontrollbedingung\n",
    "    cleaned_data = data.loc[(data[\"colorimages\"] == color) &\n",
    "                         (data[\"masktype\"]    == masktype) &\n",
    "                         (data[\"maskregion\"]  == maskregion) &\n",
    "                         (data[\"fixinvalid\"]  == fixincalid) ,\n",
    "                         ['subject',\n",
    "                          'fixposx',\n",
    "                          \"fixno\",\n",
    "                          \"fixposy\",\n",
    "                          \"imageid\",\n",
    "                          \"masktype\",\n",
    "                          \"maskregion\",\n",
    "                          \"fixinvalid\",\n",
    "                          \"colorimages\"]]\n",
    "    return cleaned_data"
   ]
  },
  {
   "cell_type": "code",
   "execution_count": 8,
   "metadata": {},
   "outputs": [],
   "source": [
    "def get_eyemovements(dataFrame):\n",
    "    \"\"\"Take a DataFrame from Eyemovement Experiment and returns the list\n",
    "       eyemovemts. Preprozessing for\n",
    "\n",
    "    Input: Selected Experment DataFrame\n",
    "\n",
    "    Returns: DataFrame with lists of Eyemovement\n",
    "\n",
    "    \"\"\"\n",
    "\n",
    "    ###create list of eyemovements\n",
    "    list_of_ey_x = dataFrame.groupby(\"imageid\")[\"fixposx\"].apply(list)\n",
    "    list_of_ey_y = dataFrame.groupby(\"imageid\")[\"fixposy\"].apply(list)\n",
    "    list_of_ey_xy = pd.concat([list_of_ey_x,list_of_ey_y], axis = 1)\n",
    "\n",
    "    return list_of_ey_xy"
   ]
  },
  {
   "cell_type": "code",
   "execution_count": 9,
   "metadata": {},
   "outputs": [],
   "source": [
    "file_pictures = \"../finalresulttab_funcsac_SFC_memory.dat\"\n",
    "all_data = pd.read_table(file_pictures,encoding = \"ISO-8859-1\")\n",
    "\n",
    "fovea = 30\n",
    "\n",
    "all_data = all_data.loc[\n",
    "                      (all_data[\"fixposx\"] >= fovea) &\n",
    "                      (all_data[\"fixposx\"] <= 1024 - fovea) &\n",
    "                      (all_data[\"fixposy\"] >= fovea) &\n",
    "                      (all_data[\"fixposy\"] <= 768 - fovea)\n",
    "                      ]\n",
    "\n",
    "\n",
    "#masktype == 0 & maskregion == 0: Kontrollbedingung\n",
    "exp_control_color = data_selecting(all_data,1,0,0,0)"
   ]
  },
  {
   "cell_type": "code",
   "execution_count": 10,
   "metadata": {
    "scrolled": false
   },
   "outputs": [
    {
     "data": {
      "text/html": [
       "<div>\n",
       "<style scoped>\n",
       "    .dataframe tbody tr th:only-of-type {\n",
       "        vertical-align: middle;\n",
       "    }\n",
       "\n",
       "    .dataframe tbody tr th {\n",
       "        vertical-align: top;\n",
       "    }\n",
       "\n",
       "    .dataframe thead th {\n",
       "        text-align: right;\n",
       "    }\n",
       "</style>\n",
       "<table border=\"1\" class=\"dataframe\">\n",
       "  <thead>\n",
       "    <tr style=\"text-align: right;\">\n",
       "      <th></th>\n",
       "      <th>subject</th>\n",
       "      <th>fixposx</th>\n",
       "      <th>fixno</th>\n",
       "      <th>fixposy</th>\n",
       "      <th>imageid</th>\n",
       "      <th>masktype</th>\n",
       "      <th>maskregion</th>\n",
       "      <th>fixinvalid</th>\n",
       "      <th>colorimages</th>\n",
       "    </tr>\n",
       "  </thead>\n",
       "  <tbody>\n",
       "    <tr>\n",
       "      <th>0</th>\n",
       "      <td>1</td>\n",
       "      <td>529.1</td>\n",
       "      <td>1.0</td>\n",
       "      <td>395.3</td>\n",
       "      <td>91</td>\n",
       "      <td>0</td>\n",
       "      <td>0</td>\n",
       "      <td>0</td>\n",
       "      <td>1</td>\n",
       "    </tr>\n",
       "    <tr>\n",
       "      <th>1</th>\n",
       "      <td>1</td>\n",
       "      <td>671.9</td>\n",
       "      <td>2.0</td>\n",
       "      <td>481.6</td>\n",
       "      <td>91</td>\n",
       "      <td>0</td>\n",
       "      <td>0</td>\n",
       "      <td>0</td>\n",
       "      <td>1</td>\n",
       "    </tr>\n",
       "    <tr>\n",
       "      <th>5</th>\n",
       "      <td>1</td>\n",
       "      <td>949.5</td>\n",
       "      <td>6.0</td>\n",
       "      <td>439.7</td>\n",
       "      <td>91</td>\n",
       "      <td>0</td>\n",
       "      <td>0</td>\n",
       "      <td>0</td>\n",
       "      <td>1</td>\n",
       "    </tr>\n",
       "    <tr>\n",
       "      <th>6</th>\n",
       "      <td>1</td>\n",
       "      <td>935.3</td>\n",
       "      <td>7.0</td>\n",
       "      <td>383.4</td>\n",
       "      <td>91</td>\n",
       "      <td>0</td>\n",
       "      <td>0</td>\n",
       "      <td>0</td>\n",
       "      <td>1</td>\n",
       "    </tr>\n",
       "    <tr>\n",
       "      <th>7</th>\n",
       "      <td>1</td>\n",
       "      <td>555.2</td>\n",
       "      <td>8.0</td>\n",
       "      <td>379.4</td>\n",
       "      <td>91</td>\n",
       "      <td>0</td>\n",
       "      <td>0</td>\n",
       "      <td>0</td>\n",
       "      <td>1</td>\n",
       "    </tr>\n",
       "  </tbody>\n",
       "</table>\n",
       "</div>"
      ],
      "text/plain": [
       "   subject  fixposx  fixno  fixposy  imageid  masktype  maskregion  \\\n",
       "0        1    529.1    1.0    395.3       91         0           0   \n",
       "1        1    671.9    2.0    481.6       91         0           0   \n",
       "5        1    949.5    6.0    439.7       91         0           0   \n",
       "6        1    935.3    7.0    383.4       91         0           0   \n",
       "7        1    555.2    8.0    379.4       91         0           0   \n",
       "\n",
       "   fixinvalid  colorimages  \n",
       "0           0            1  \n",
       "1           0            1  \n",
       "5           0            1  \n",
       "6           0            1  \n",
       "7           0            1  "
      ]
     },
     "execution_count": 10,
     "metadata": {},
     "output_type": "execute_result"
    }
   ],
   "source": [
    "exp_control_color.head()"
   ]
  },
  {
   "cell_type": "code",
   "execution_count": 11,
   "metadata": {
    "scrolled": true
   },
   "outputs": [
    {
     "name": "stderr",
     "output_type": "stream",
     "text": [
      "/home/mendel/.conda/envs/gpu/lib/python3.6/site-packages/keras/engine/saving.py:292: UserWarning: No training configuration found in save file: the model was *not* compiled. Compile it manually.\n",
      "  warnings.warn('No training configuration found in save file: '\n"
     ]
    }
   ],
   "source": [
    "model = get_model()"
   ]
  },
  {
   "cell_type": "code",
   "execution_count": 12,
   "metadata": {},
   "outputs": [],
   "source": [
    "if IMAGE_DIRECTORY == '':\n",
    "    img_paths = get_img_paths(DEFAULT_IMAGE_DIRECTORY)\n",
    "else:\n",
    "    img_paths = get_img_paths(IMAGE_DIRECTORY)"
   ]
  },
  {
   "cell_type": "code",
   "execution_count": 13,
   "metadata": {},
   "outputs": [],
   "source": [
    "#preprocess\n",
    "img_sequ = ImageSequence(paths = img_paths,\n",
    "                         labels = None,\n",
    "                         batch_size = 1,\n",
    "                         preprocessing=preprocess_input,\n",
    "                         augmentation=[])"
   ]
  },
  {
   "cell_type": "code",
   "execution_count": 14,
   "metadata": {},
   "outputs": [
    {
     "ename": "NameError",
     "evalue": "name 'imread_rgb' is not defined",
     "output_type": "error",
     "traceback": [
      "\u001b[0;31m---------------------------------------------------------------------------\u001b[0m",
      "\u001b[0;31mNameError\u001b[0m                                 Traceback (most recent call last)",
      "\u001b[0;32m<ipython-input-14-58462c626205>\u001b[0m in \u001b[0;36m<module>\u001b[0;34m\u001b[0m\n\u001b[1;32m      1\u001b[0m \u001b[0miter_\u001b[0m \u001b[0;34m=\u001b[0m \u001b[0mimg_sequ\u001b[0m\u001b[0;34m.\u001b[0m\u001b[0m__iter__\u001b[0m\u001b[0;34m(\u001b[0m\u001b[0;34m)\u001b[0m\u001b[0;34m\u001b[0m\u001b[0;34m\u001b[0m\u001b[0m\n\u001b[0;32m----> 2\u001b[0;31m \u001b[0mimage\u001b[0m \u001b[0;34m=\u001b[0m \u001b[0miter_\u001b[0m\u001b[0;34m.\u001b[0m\u001b[0m__next__\u001b[0m\u001b[0;34m(\u001b[0m\u001b[0;34m)\u001b[0m\u001b[0;34m\u001b[0m\u001b[0;34m\u001b[0m\u001b[0m\n\u001b[0m\u001b[1;32m      3\u001b[0m \u001b[0;34m\u001b[0m\u001b[0m\n\u001b[1;32m      4\u001b[0m \u001b[0;31m#for i,image in enumerate(img_sequ):\u001b[0m\u001b[0;34m\u001b[0m\u001b[0;34m\u001b[0m\u001b[0;34m\u001b[0m\u001b[0m\n\u001b[1;32m      5\u001b[0m \u001b[0;31m#    if i >= len(img_sequ):\u001b[0m\u001b[0;34m\u001b[0m\u001b[0;34m\u001b[0m\u001b[0;34m\u001b[0m\u001b[0m\n",
      "\u001b[0;32m~/.conda/envs/gpu/lib/python3.6/site-packages/keras/utils/data_utils.py\u001b[0m in \u001b[0;36m__iter__\u001b[0;34m(self)\u001b[0m\n\u001b[1;32m    370\u001b[0m     \u001b[0;32mdef\u001b[0m \u001b[0m__iter__\u001b[0m\u001b[0;34m(\u001b[0m\u001b[0mself\u001b[0m\u001b[0;34m)\u001b[0m\u001b[0;34m:\u001b[0m\u001b[0;34m\u001b[0m\u001b[0;34m\u001b[0m\u001b[0m\n\u001b[1;32m    371\u001b[0m         \u001b[0;34m\"\"\"Create a generator that iterate over the Sequence.\"\"\"\u001b[0m\u001b[0;34m\u001b[0m\u001b[0;34m\u001b[0m\u001b[0m\n\u001b[0;32m--> 372\u001b[0;31m         \u001b[0;32mfor\u001b[0m \u001b[0mitem\u001b[0m \u001b[0;32min\u001b[0m \u001b[0;34m(\u001b[0m\u001b[0mself\u001b[0m\u001b[0;34m[\u001b[0m\u001b[0mi\u001b[0m\u001b[0;34m]\u001b[0m \u001b[0;32mfor\u001b[0m \u001b[0mi\u001b[0m \u001b[0;32min\u001b[0m \u001b[0mrange\u001b[0m\u001b[0;34m(\u001b[0m\u001b[0mlen\u001b[0m\u001b[0;34m(\u001b[0m\u001b[0mself\u001b[0m\u001b[0;34m)\u001b[0m\u001b[0;34m)\u001b[0m\u001b[0;34m)\u001b[0m\u001b[0;34m:\u001b[0m\u001b[0;34m\u001b[0m\u001b[0;34m\u001b[0m\u001b[0m\n\u001b[0m\u001b[1;32m    373\u001b[0m             \u001b[0;32myield\u001b[0m \u001b[0mitem\u001b[0m\u001b[0;34m\u001b[0m\u001b[0;34m\u001b[0m\u001b[0m\n\u001b[1;32m    374\u001b[0m \u001b[0;34m\u001b[0m\u001b[0m\n",
      "\u001b[0;32m~/.conda/envs/gpu/lib/python3.6/site-packages/keras/utils/data_utils.py\u001b[0m in \u001b[0;36m<genexpr>\u001b[0;34m(.0)\u001b[0m\n\u001b[1;32m    370\u001b[0m     \u001b[0;32mdef\u001b[0m \u001b[0m__iter__\u001b[0m\u001b[0;34m(\u001b[0m\u001b[0mself\u001b[0m\u001b[0;34m)\u001b[0m\u001b[0;34m:\u001b[0m\u001b[0;34m\u001b[0m\u001b[0;34m\u001b[0m\u001b[0m\n\u001b[1;32m    371\u001b[0m         \u001b[0;34m\"\"\"Create a generator that iterate over the Sequence.\"\"\"\u001b[0m\u001b[0;34m\u001b[0m\u001b[0;34m\u001b[0m\u001b[0m\n\u001b[0;32m--> 372\u001b[0;31m         \u001b[0;32mfor\u001b[0m \u001b[0mitem\u001b[0m \u001b[0;32min\u001b[0m \u001b[0;34m(\u001b[0m\u001b[0mself\u001b[0m\u001b[0;34m[\u001b[0m\u001b[0mi\u001b[0m\u001b[0;34m]\u001b[0m \u001b[0;32mfor\u001b[0m \u001b[0mi\u001b[0m \u001b[0;32min\u001b[0m \u001b[0mrange\u001b[0m\u001b[0;34m(\u001b[0m\u001b[0mlen\u001b[0m\u001b[0;34m(\u001b[0m\u001b[0mself\u001b[0m\u001b[0;34m)\u001b[0m\u001b[0;34m)\u001b[0m\u001b[0;34m)\u001b[0m\u001b[0;34m:\u001b[0m\u001b[0;34m\u001b[0m\u001b[0;34m\u001b[0m\u001b[0m\n\u001b[0m\u001b[1;32m    373\u001b[0m             \u001b[0;32myield\u001b[0m \u001b[0mitem\u001b[0m\u001b[0;34m\u001b[0m\u001b[0;34m\u001b[0m\u001b[0m\n\u001b[1;32m    374\u001b[0m \u001b[0;34m\u001b[0m\u001b[0m\n",
      "\u001b[0;32m<ipython-input-4-d1ee765c0564>\u001b[0m in \u001b[0;36m__getitem__\u001b[0;34m(self, idx)\u001b[0m\n\u001b[1;32m     49\u001b[0m         \u001b[0mbatch_x_read_in\u001b[0m \u001b[0;34m=\u001b[0m \u001b[0;34m[\u001b[0m\u001b[0;34m]\u001b[0m\u001b[0;34m\u001b[0m\u001b[0;34m\u001b[0m\u001b[0m\n\u001b[1;32m     50\u001b[0m         \u001b[0;32mfor\u001b[0m \u001b[0mfile_name\u001b[0m \u001b[0;32min\u001b[0m \u001b[0mbatch_x\u001b[0m\u001b[0;34m:\u001b[0m\u001b[0;34m\u001b[0m\u001b[0;34m\u001b[0m\u001b[0m\n\u001b[0;32m---> 51\u001b[0;31m             \u001b[0mimg\u001b[0m \u001b[0;34m=\u001b[0m \u001b[0mimread_rgb\u001b[0m\u001b[0;34m(\u001b[0m\u001b[0mfile_name\u001b[0m\u001b[0;34m)\u001b[0m\u001b[0;34m\u001b[0m\u001b[0;34m\u001b[0m\u001b[0m\n\u001b[0m\u001b[1;32m     52\u001b[0m             \u001b[0;32mfor\u001b[0m \u001b[0mfn\u001b[0m \u001b[0;32min\u001b[0m \u001b[0mself\u001b[0m\u001b[0;34m.\u001b[0m\u001b[0mfn_list\u001b[0m\u001b[0;34m:\u001b[0m\u001b[0;34m\u001b[0m\u001b[0;34m\u001b[0m\u001b[0m\n\u001b[1;32m     53\u001b[0m                 \u001b[0mimg\u001b[0m \u001b[0;34m=\u001b[0m \u001b[0mfn\u001b[0m\u001b[0;34m(\u001b[0m\u001b[0mimg\u001b[0m\u001b[0;34m)\u001b[0m\u001b[0;34m\u001b[0m\u001b[0;34m\u001b[0m\u001b[0m\n",
      "\u001b[0;31mNameError\u001b[0m: name 'imread_rgb' is not defined"
     ]
    }
   ],
   "source": [
    "iter_ = img_sequ.__iter__()\n",
    "image = iter_.__next__()\n",
    "\n",
    "#for i,image in enumerate(img_sequ): \n",
    "#    if i >= len(img_sequ):\n",
    "    #if i >= 1:\n",
    "#       break\n",
    "\n",
    "\n",
    "t_start_model_predict = time()\n",
    "#running the images through the model and get the leyers\n",
    "p = model.predict(image, batch_size = 1)\n",
    "t_stop_model_predict = time()"
   ]
  },
  {
   "cell_type": "code",
   "execution_count": null,
   "metadata": {
    "scrolled": true
   },
   "outputs": [],
   "source": [
    "type(p)\n",
    "len(p)"
   ]
  },
  {
   "cell_type": "markdown",
   "metadata": {},
   "source": [
    "## Original"
   ]
  },
  {
   "cell_type": "code",
   "execution_count": null,
   "metadata": {
    "scrolled": false
   },
   "outputs": [],
   "source": [
    "pic1 = cv2.imread(\"images/color/session1_memory/original/1.png\")\n",
    "plt.imshow(pic1)"
   ]
  },
  {
   "cell_type": "markdown",
   "metadata": {},
   "source": [
    "## Layer 1"
   ]
  },
  {
   "cell_type": "code",
   "execution_count": null,
   "metadata": {
    "scrolled": false
   },
   "outputs": [],
   "source": [
    "plt.imshow(p[0][0][:,:,254], interpolation=\"nearest\", cmap=\"gray\")"
   ]
  },
  {
   "cell_type": "markdown",
   "metadata": {},
   "source": [
    "## Layer 2"
   ]
  },
  {
   "cell_type": "code",
   "execution_count": null,
   "metadata": {
    "scrolled": true
   },
   "outputs": [],
   "source": [
    "layer = 11\n",
    "plt.figure(1, figsize=(200,200))\n",
    "for i in range(5):\n",
    "    plt.subplot(1, 5, i+1)\n",
    "    plt.title('Filters ' + str(i))\n",
    "    plt.imshow(p[layer-1][0][:,:,i], interpolation=\"nearest\", cmap=\"gray\")\n",
    "print(p[layer-1].shape)"
   ]
  },
  {
   "cell_type": "code",
   "execution_count": null,
   "metadata": {},
   "outputs": [],
   "source": [
    "np.mean(p[layer-1][0][:,:], axis=2).shape"
   ]
  },
  {
   "cell_type": "code",
   "execution_count": null,
   "metadata": {},
   "outputs": [],
   "source": [
    "plt.imshow(np.max(p[layer-1][0][:,:], axis=2))"
   ]
  },
  {
   "cell_type": "code",
   "execution_count": null,
   "metadata": {},
   "outputs": [],
   "source": [
    "pic1 = cv2.imread(\"images/color/session1_memory/original/1.png\")\n"
   ]
  },
  {
   "cell_type": "code",
   "execution_count": null,
   "metadata": {
    "scrolled": true
   },
   "outputs": [],
   "source": [
    "list_of_ey_xy = get_eyemovements(exp_control_color)\n",
    "\n",
    "pic1 = plt.imread(\"images/color/session1_memory/original/1.png\")\n",
    "\n",
    "meanlist = []\n",
    "rlist    = []\n",
    "fixations = list_of_ey_xy.iloc[0,0]\n",
    "for i in range(len(list_of_ey_xy.iloc[0,0])):   \n",
    "    d = pic1[int(list_of_ey_xy.iloc[0,1][i])-fovea:\n",
    "             int(list_of_ey_xy.iloc[0,1][i])+fovea,\n",
    "             int(list_of_ey_xy.iloc[0,0][i])-fovea:\n",
    "             int(list_of_ey_xy.iloc[0,0][i])+fovea]\n",
    "    rlist.append(d)\n",
    "    if(d.shape == (60,60,3)):\n",
    "        meanlist.append(d)\n",
    "\n",
    "plt.imshow(pic1)"
   ]
  },
  {
   "cell_type": "code",
   "execution_count": null,
   "metadata": {},
   "outputs": [],
   "source": [
    "pic1.shape"
   ]
  },
  {
   "cell_type": "code",
   "execution_count": null,
   "metadata": {},
   "outputs": [],
   "source": [
    "#Fixationsnummer\n",
    "z = 9\n",
    "print(\"x: \",list_of_ey_xy.iloc[0,0][z])\n",
    "print(\"y: \",list_of_ey_xy.iloc[0,1][z])\n",
    "plt.imshow(meanlist[z])"
   ]
  },
  {
   "cell_type": "code",
   "execution_count": null,
   "metadata": {
    "scrolled": true
   },
   "outputs": [],
   "source": [
    "#Fixationsnummer\n",
    "z = 5\n",
    "print(\"x: \",list_of_ey_xy.iloc[0,0][z])\n",
    "print(\"y: \",list_of_ey_xy.iloc[0,1][z])\n",
    "plt.imshow(meanlist[z])"
   ]
  },
  {
   "cell_type": "code",
   "execution_count": null,
   "metadata": {
    "scrolled": true
   },
   "outputs": [],
   "source": [
    "len(rlist)"
   ]
  },
  {
   "cell_type": "code",
   "execution_count": null,
   "metadata": {},
   "outputs": [],
   "source": [
    "len(meanlist)"
   ]
  },
  {
   "cell_type": "code",
   "execution_count": null,
   "metadata": {},
   "outputs": [],
   "source": []
  },
  {
   "cell_type": "code",
   "execution_count": null,
   "metadata": {},
   "outputs": [],
   "source": [
    "#Blick 4 + 5\n",
    "plt.imshow(np.mean(meanlist[4:6], axis=0))"
   ]
  },
  {
   "cell_type": "code",
   "execution_count": null,
   "metadata": {
    "scrolled": false
   },
   "outputs": [],
   "source": [
    "#gesammt durchscnitt\n",
    "plt.imshow(np.mean(meanlist, axis=0))"
   ]
  },
  {
   "cell_type": "code",
   "execution_count": null,
   "metadata": {},
   "outputs": [],
   "source": [
    "np.mean(meanlist, axis=0).shape"
   ]
  },
  {
   "cell_type": "code",
   "execution_count": null,
   "metadata": {},
   "outputs": [],
   "source": [
    "list_of_ey_xy = get_eyemovements(exp_control_color)\n",
    "\n",
    "pic2 = plt.imread(\"images/color/session1_memory/original/2.png\")\n",
    "\n",
    "meanlist2 = []\n",
    "fixations = list_of_ey_xy.iloc[0,0]\n",
    "for i in range(len(list_of_ey_xy.iloc[0,0])):   \n",
    "    d = pic2[int(list_of_ey_xy.iloc[0,1][i])-fovea:\n",
    "             int(list_of_ey_xy.iloc[0,1][i])+fovea,\n",
    "             int(list_of_ey_xy.iloc[0,0][i])-fovea:\n",
    "             int(list_of_ey_xy.iloc[0,0][i])+fovea]\n",
    "    if(d.shape == (60,60,3)):\n",
    "        meanlist2.append(d)\n",
    "\n",
    "plt.imshow(pic2)"
   ]
  },
  {
   "cell_type": "code",
   "execution_count": null,
   "metadata": {
    "scrolled": false
   },
   "outputs": [],
   "source": [
    "plt.imshow(np.mean(meanlist2, axis=0))"
   ]
  },
  {
   "cell_type": "markdown",
   "metadata": {},
   "source": [
    "Interpolation: With and Without"
   ]
  }
 ],
 "metadata": {
  "kernelspec": {
   "display_name": "Python 3",
   "language": "python",
   "name": "python3"
  },
  "language_info": {
   "codemirror_mode": {
    "name": "ipython",
    "version": 3
   },
   "file_extension": ".py",
   "mimetype": "text/x-python",
   "name": "python",
   "nbconvert_exporter": "python",
   "pygments_lexer": "ipython3",
   "version": "3.6.7"
  }
 },
 "nbformat": 4,
 "nbformat_minor": 2
}
